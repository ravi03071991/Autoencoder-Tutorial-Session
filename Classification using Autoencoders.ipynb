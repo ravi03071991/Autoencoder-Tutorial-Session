{
 "cells": [
  {
   "cell_type": "code",
   "execution_count": 1,
   "metadata": {
    "colab": {
     "base_uri": "https://localhost:8080/",
     "height": 34
    },
    "colab_type": "code",
    "id": "XuFwMRtFvcQl",
    "outputId": "bc16df04-0a23-4a6c-b0a3-119c839d85ec"
   },
   "outputs": [
    {
     "name": "stderr",
     "output_type": "stream",
     "text": [
      "Using TensorFlow backend.\n"
     ]
    }
   ],
   "source": [
    "from keras.layers import Input, Dense, Conv2D, MaxPooling2D, UpSampling2D\n",
    "from keras.models import Sequential, load_model\n",
    "from keras.layers.core import Activation\n",
    "from keras.models import Model\n",
    "from keras import backend as K\n",
    "from keras.utils import np_utils\n",
    "\n",
    "from keras.datasets import mnist\n",
    "import numpy as np\n",
    "\n",
    "import matplotlib.pyplot as plt\n",
    "\n",
    "from keras import regularizers"
   ]
  },
  {
   "cell_type": "code",
   "execution_count": 2,
   "metadata": {
    "colab": {
     "base_uri": "https://localhost:8080/",
     "height": 52
    },
    "colab_type": "code",
    "id": "-tQ4_wsMxmly",
    "outputId": "6ae6909c-7cfd-434d-b0f8-866ee769e1b7"
   },
   "outputs": [
    {
     "name": "stdout",
     "output_type": "stream",
     "text": [
      "x_train shape is:  (60000, 784)\n",
      "x_test shape is:  (10000, 784)\n"
     ]
    }
   ],
   "source": [
    "(x_train, y_train), (x_test, y_test) = mnist.load_data()\n",
    "x_train = x_train.astype('float32') / 255.\n",
    "x_test = x_test.astype('float32') / 255.\n",
    "x_train = x_train.reshape((len(x_train), np.prod(x_train.shape[1:])))\n",
    "x_test = x_test.reshape((len(x_test), np.prod(x_test.shape[1:])))\n",
    "print(\"x_train shape is: \", x_train.shape)\n",
    "print(\"x_test shape is: \", x_test.shape)"
   ]
  },
  {
   "cell_type": "code",
   "execution_count": 3,
   "metadata": {
    "colab": {
     "base_uri": "https://localhost:8080/",
     "height": 2010
    },
    "colab_type": "code",
    "id": "EMVG2daPx0d7",
    "outputId": "cd20e40c-64b2-4112-e2ac-7ead0818b8b9"
   },
   "outputs": [
    {
     "name": "stdout",
     "output_type": "stream",
     "text": [
      "_________________________________________________________________\n",
      "Layer (type)                 Output Shape              Param #   \n",
      "=================================================================\n",
      "input_1 (InputLayer)         (None, 784)               0         \n",
      "_________________________________________________________________\n",
      "encoder (Dense)              (None, 64)                50240     \n",
      "_________________________________________________________________\n",
      "decoder (Dense)              (None, 784)               50960     \n",
      "=================================================================\n",
      "Total params: 101,200\n",
      "Trainable params: 101,200\n",
      "Non-trainable params: 0\n",
      "_________________________________________________________________\n",
      "Train on 60000 samples, validate on 10000 samples\n",
      "Epoch 1/50\n",
      "60000/60000 [==============================] - 2s 39us/step - loss: 0.2452 - val_loss: 0.1630\n",
      "Epoch 2/50\n",
      "60000/60000 [==============================] - 1s 25us/step - loss: 0.1445 - val_loss: 0.1272\n",
      "Epoch 3/50\n",
      "60000/60000 [==============================] - 1s 25us/step - loss: 0.1187 - val_loss: 0.1087\n",
      "Epoch 4/50\n",
      "60000/60000 [==============================] - 1s 24us/step - loss: 0.1044 - val_loss: 0.0978\n",
      "Epoch 5/50\n",
      "60000/60000 [==============================] - 1s 25us/step - loss: 0.0953 - val_loss: 0.0907\n",
      "Epoch 6/50\n",
      "60000/60000 [==============================] - 1s 25us/step - loss: 0.0890 - val_loss: 0.0855\n",
      "Epoch 7/50\n",
      "60000/60000 [==============================] - 1s 24us/step - loss: 0.0846 - val_loss: 0.0819\n",
      "Epoch 8/50\n",
      "60000/60000 [==============================] - 1s 25us/step - loss: 0.0815 - val_loss: 0.0795\n",
      "Epoch 9/50\n",
      "60000/60000 [==============================] - 1s 25us/step - loss: 0.0793 - val_loss: 0.0777\n",
      "Epoch 10/50\n",
      "60000/60000 [==============================] - 1s 25us/step - loss: 0.0778 - val_loss: 0.0764\n",
      "Epoch 11/50\n",
      "60000/60000 [==============================] - 1s 25us/step - loss: 0.0768 - val_loss: 0.0756\n",
      "Epoch 12/50\n",
      "60000/60000 [==============================] - 1s 25us/step - loss: 0.0760 - val_loss: 0.0750\n",
      "Epoch 13/50\n",
      "60000/60000 [==============================] - 2s 25us/step - loss: 0.0754 - val_loss: 0.0745\n",
      "Epoch 14/50\n",
      "60000/60000 [==============================] - 1s 25us/step - loss: 0.0750 - val_loss: 0.0741\n",
      "Epoch 15/50\n",
      "60000/60000 [==============================] - 2s 25us/step - loss: 0.0747 - val_loss: 0.0738\n",
      "Epoch 16/50\n",
      "60000/60000 [==============================] - 1s 25us/step - loss: 0.0744 - val_loss: 0.0736\n",
      "Epoch 17/50\n",
      "60000/60000 [==============================] - 1s 25us/step - loss: 0.0742 - val_loss: 0.0735\n",
      "Epoch 18/50\n",
      "60000/60000 [==============================] - 1s 25us/step - loss: 0.0740 - val_loss: 0.0734\n",
      "Epoch 19/50\n",
      "60000/60000 [==============================] - 1s 25us/step - loss: 0.0739 - val_loss: 0.0732\n",
      "Epoch 20/50\n",
      "60000/60000 [==============================] - 1s 25us/step - loss: 0.0738 - val_loss: 0.0731\n",
      "Epoch 21/50\n",
      "60000/60000 [==============================] - 1s 25us/step - loss: 0.0737 - val_loss: 0.0730\n",
      "Epoch 22/50\n",
      "60000/60000 [==============================] - 2s 25us/step - loss: 0.0736 - val_loss: 0.0730\n",
      "Epoch 23/50\n",
      "60000/60000 [==============================] - 2s 25us/step - loss: 0.0735 - val_loss: 0.0729\n",
      "Epoch 24/50\n",
      "60000/60000 [==============================] - 2s 26us/step - loss: 0.0735 - val_loss: 0.0728\n",
      "Epoch 25/50\n",
      "60000/60000 [==============================] - 2s 25us/step - loss: 0.0734 - val_loss: 0.0729\n",
      "Epoch 26/50\n",
      "60000/60000 [==============================] - 2s 25us/step - loss: 0.0733 - val_loss: 0.0727\n",
      "Epoch 27/50\n",
      "60000/60000 [==============================] - 1s 25us/step - loss: 0.0733 - val_loss: 0.0727\n",
      "Epoch 28/50\n",
      "60000/60000 [==============================] - 2s 25us/step - loss: 0.0732 - val_loss: 0.0727\n",
      "Epoch 29/50\n",
      "60000/60000 [==============================] - 1s 25us/step - loss: 0.0732 - val_loss: 0.0726\n",
      "Epoch 30/50\n",
      "60000/60000 [==============================] - 1s 25us/step - loss: 0.0732 - val_loss: 0.0726\n",
      "Epoch 31/50\n",
      "60000/60000 [==============================] - 2s 25us/step - loss: 0.0731 - val_loss: 0.0726\n",
      "Epoch 32/50\n",
      "60000/60000 [==============================] - 1s 25us/step - loss: 0.0731 - val_loss: 0.0725\n",
      "Epoch 33/50\n",
      "60000/60000 [==============================] - 1s 25us/step - loss: 0.0731 - val_loss: 0.0725\n",
      "Epoch 34/50\n",
      "60000/60000 [==============================] - 1s 25us/step - loss: 0.0730 - val_loss: 0.0725\n",
      "Epoch 35/50\n",
      "60000/60000 [==============================] - 1s 24us/step - loss: 0.0730 - val_loss: 0.0725\n",
      "Epoch 36/50\n",
      "60000/60000 [==============================] - 1s 25us/step - loss: 0.0730 - val_loss: 0.0724\n",
      "Epoch 37/50\n",
      "60000/60000 [==============================] - 1s 25us/step - loss: 0.0730 - val_loss: 0.0725\n",
      "Epoch 38/50\n",
      "60000/60000 [==============================] - 1s 25us/step - loss: 0.0729 - val_loss: 0.0724\n",
      "Epoch 39/50\n",
      "60000/60000 [==============================] - 1s 24us/step - loss: 0.0729 - val_loss: 0.0724\n",
      "Epoch 40/50\n",
      "60000/60000 [==============================] - 1s 25us/step - loss: 0.0729 - val_loss: 0.0724\n",
      "Epoch 41/50\n",
      "60000/60000 [==============================] - 1s 25us/step - loss: 0.0729 - val_loss: 0.0723\n",
      "Epoch 42/50\n",
      "60000/60000 [==============================] - 1s 25us/step - loss: 0.0729 - val_loss: 0.0724\n",
      "Epoch 43/50\n",
      "60000/60000 [==============================] - 1s 24us/step - loss: 0.0728 - val_loss: 0.0723\n",
      "Epoch 44/50\n",
      "60000/60000 [==============================] - 1s 24us/step - loss: 0.0728 - val_loss: 0.0723\n",
      "Epoch 45/50\n",
      "60000/60000 [==============================] - 2s 27us/step - loss: 0.0728 - val_loss: 0.0723\n",
      "Epoch 46/50\n",
      "60000/60000 [==============================] - 2s 29us/step - loss: 0.0728 - val_loss: 0.0723\n",
      "Epoch 47/50\n",
      "60000/60000 [==============================] - 2s 29us/step - loss: 0.0728 - val_loss: 0.0723\n",
      "Epoch 48/50\n",
      "60000/60000 [==============================] - 2s 29us/step - loss: 0.0728 - val_loss: 0.0723\n",
      "Epoch 49/50\n",
      "60000/60000 [==============================] - 2s 29us/step - loss: 0.0728 - val_loss: 0.0723\n",
      "Epoch 50/50\n",
      "60000/60000 [==============================] - 2s 29us/step - loss: 0.0728 - val_loss: 0.0723\n"
     ]
    },
    {
     "data": {
      "text/plain": [
       "<keras.callbacks.History at 0x7f5569d27fd0>"
      ]
     },
     "execution_count": 3,
     "metadata": {
      "tags": []
     },
     "output_type": "execute_result"
    }
   ],
   "source": [
    "# encoder dimension\n",
    "encoding_dim = 64  \n",
    "\n",
    "# Input placeholder\n",
    "input_img = Input(shape=(784,))\n",
    "\n",
    "# encoded - encoded representation of the input\n",
    "encoded = Dense(encoding_dim, activation='relu', name = \"encoder\")(input_img)\n",
    "\n",
    "# decoded - lossy reconstruction of the input\n",
    "decoded = Dense(784, activation='sigmoid', name = \"decoder\")(encoded)\n",
    "\n",
    "# autoencoder - model maps an input to its reconstruction\n",
    "autoencoder = Model(input_img, decoded)\n",
    "\n",
    "# encoder - model maps an input to its encoded representation\n",
    "encoder = Model(input_img, encoded)\n",
    "\n",
    "# Placeholder for an encoded (64-dimensional) input\n",
    "encoded_input = Input(shape=(encoding_dim,))\n",
    "\n",
    "# Last layer of the autoencoder model\n",
    "decoder_layer = autoencoder.layers[-1]\n",
    "\n",
    "# decoder model\n",
    "decoder = Model(encoded_input, decoder_layer(encoded_input))\n",
    "\n",
    "# Compile  model\n",
    "autoencoder.compile(optimizer='adam', loss='binary_crossentropy')\n",
    "\n",
    "autoencoder.summary()\n",
    "\n",
    "# Fit the model\n",
    "autoencoder.fit(x_train, x_train,\n",
    "                epochs=50,\n",
    "                batch_size=256,\n",
    "                shuffle=True,\n",
    "                validation_data=(x_test, x_test))"
   ]
  },
  {
   "cell_type": "code",
   "execution_count": 4,
   "metadata": {
    "colab": {
     "base_uri": "https://localhost:8080/",
     "height": 248
    },
    "colab_type": "code",
    "id": "C_qXvY4NyCpa",
    "outputId": "61e61454-3927-495d-ac61-e57102e75b26"
   },
   "outputs": [
    {
     "data": {
      "image/png": "[encoded data removed]",
      "text/plain": [
       "<matplotlib.figure.Figure at 0x7f55a87bf320>"
      ]
     },
     "metadata": {
      "tags": []
     },
     "output_type": "display_data"
    }
   ],
   "source": [
    "# decoded_imgs - decoded representation of test image\n",
    "decoded_imgs = autoencoder.predict(x_test)\n",
    "\n",
    "n = 5  # Display 4 images\n",
    "plt.figure(figsize=(20, 4))\n",
    "for i in range(1, n):\n",
    "    # display original\n",
    "    ax = plt.subplot(2, n, i + 1)\n",
    "    plt.imshow(x_test[i].reshape(28, 28))\n",
    "    plt.gray()\n",
    "    ax.get_xaxis().set_visible(False)\n",
    "    ax.get_yaxis().set_visible(False)\n",
    "\n",
    "    # display reconstruction\n",
    "    ax = plt.subplot(2, n, i + 1 + n)\n",
    "    plt.imshow(decoded_imgs[i].reshape(28, 28))\n",
    "    plt.gray()\n",
    "    ax.get_xaxis().set_visible(False)\n",
    "    ax.get_yaxis().set_visible(False)\n",
    "plt.show()"
   ]
  },
  {
   "cell_type": "code",
   "execution_count": 0,
   "metadata": {
    "colab": {},
    "colab_type": "code",
    "id": "bsoG6lglyK1D"
   },
   "outputs": [],
   "source": [
    "# Transform labels to one-hot encodings\n",
    "Y_train = np_utils.to_categorical(y_train, 10)\n",
    "Y_test = np_utils.to_categorical(y_test, 10)"
   ]
  },
  {
   "cell_type": "code",
   "execution_count": 6,
   "metadata": {
    "colab": {
     "base_uri": "https://localhost:8080/",
     "height": 728
    },
    "colab_type": "code",
    "id": "eW1LG-3HyTeL",
    "outputId": "c361d65a-aa08-4d7e-d6bc-4fcf57799757"
   },
   "outputs": [
    {
     "name": "stdout",
     "output_type": "stream",
     "text": [
      "Epoch 1/20\n",
      "60000/60000 [==============================] - 2s 26us/step - loss: 1.6027 - acc: 0.6474\n",
      "Epoch 2/20\n",
      "60000/60000 [==============================] - 1s 23us/step - loss: 0.4235 - acc: 0.8727\n",
      "Epoch 3/20\n",
      "60000/60000 [==============================] - 1s 23us/step - loss: 0.3413 - acc: 0.9002\n",
      "Epoch 4/20\n",
      "60000/60000 [==============================] - 1s 23us/step - loss: 0.3086 - acc: 0.9113\n",
      "Epoch 5/20\n",
      "60000/60000 [==============================] - 1s 23us/step - loss: 0.2921 - acc: 0.9169\n",
      "Epoch 6/20\n",
      "60000/60000 [==============================] - 1s 23us/step - loss: 0.2802 - acc: 0.9205\n",
      "Epoch 7/20\n",
      "60000/60000 [==============================] - 1s 23us/step - loss: 0.2702 - acc: 0.9231\n",
      "Epoch 8/20\n",
      "60000/60000 [==============================] - 1s 22us/step - loss: 0.2640 - acc: 0.9255\n",
      "Epoch 9/20\n",
      "60000/60000 [==============================] - 1s 23us/step - loss: 0.2570 - acc: 0.9273\n",
      "Epoch 10/20\n",
      "60000/60000 [==============================] - 1s 22us/step - loss: 0.2517 - acc: 0.9286\n",
      "Epoch 11/20\n",
      "60000/60000 [==============================] - 1s 22us/step - loss: 0.2427 - acc: 0.9316\n",
      "Epoch 12/20\n",
      "60000/60000 [==============================] - 1s 23us/step - loss: 0.2348 - acc: 0.9336\n",
      "Epoch 13/20\n",
      "60000/60000 [==============================] - 1s 23us/step - loss: 0.2236 - acc: 0.9372\n",
      "Epoch 14/20\n",
      "60000/60000 [==============================] - 1s 23us/step - loss: 0.2147 - acc: 0.9386\n",
      "Epoch 15/20\n",
      "60000/60000 [==============================] - 1s 23us/step - loss: 0.2063 - acc: 0.9413\n",
      "Epoch 16/20\n",
      "60000/60000 [==============================] - 1s 23us/step - loss: 0.1947 - acc: 0.9449\n",
      "Epoch 17/20\n",
      "60000/60000 [==============================] - 1s 23us/step - loss: 0.1858 - acc: 0.9466\n",
      "Epoch 18/20\n",
      "60000/60000 [==============================] - 1s 23us/step - loss: 0.1764 - acc: 0.9490\n",
      "Epoch 19/20\n",
      "60000/60000 [==============================] - 1s 23us/step - loss: 0.1677 - acc: 0.9517\n",
      "Epoch 20/20\n",
      "60000/60000 [==============================] - 1s 23us/step - loss: 0.1595 - acc: 0.9539\n"
     ]
    },
    {
     "data": {
      "text/plain": [
       "<keras.callbacks.History at 0x7f55a8765908>"
      ]
     },
     "execution_count": 6,
     "metadata": {
      "tags": []
     },
     "output_type": "execute_result"
    }
   ],
   "source": [
    "# MLP code goes here for classification\n",
    "\n",
    "# Get the coder output\n",
    "x = autoencoder.get_layer('encoder').output\n",
    "\n",
    "# Create final dense layer for classification\n",
    "y = Dense(10, activation='softmax', name='predictions')(x)\n",
    "\n",
    "# Create model\n",
    "model = Model(inputs=autoencoder.inputs, outputs=y)\n",
    "\n",
    "# Compile model\n",
    "model.compile(loss='categorical_crossentropy', optimizer='adam',\n",
    "               metrics=['accuracy'])\n",
    "\n",
    "# Train the model\n",
    "model.fit(x_train, Y_train, epochs=20, batch_size=256)\n",
    "\n"
   ]
  },
  {
   "cell_type": "code",
   "execution_count": 7,
   "metadata": {
    "colab": {
     "base_uri": "https://localhost:8080/",
     "height": 52
    },
    "colab_type": "code",
    "id": "09qaZYJkyh0N",
    "outputId": "d86ca896-762b-4226-e319-c45ff2480c62"
   },
   "outputs": [
    {
     "name": "stdout",
     "output_type": "stream",
     "text": [
      "Test Loss 0.18703153738938272\n",
      "Test Accuracy 0.9458\n"
     ]
    }
   ],
   "source": [
    "# Evaluate it on test data\n",
    "loss_and_metrics = model.evaluate(x_test, Y_test, verbose=2)\n",
    "\n",
    "print(\"Test Loss\", loss_and_metrics[0])\n",
    "print(\"Test Accuracy\", loss_and_metrics[1])"
   ]
  }
 ],
 "metadata": {
  "accelerator": "GPU",
  "colab": {
   "name": "Classification using Autoencoders.ipynb",
   "provenance": [],
   "version": "0.3.2"
  },
  "kernelspec": {
   "display_name": "Python 3",
   "language": "python",
   "name": "python3"
  },
  "language_info": {
   "codemirror_mode": {
    "name": "ipython",
    "version": 3
   },
   "file_extension": ".py",
   "mimetype": "text/x-python",
   "name": "python",
   "nbconvert_exporter": "python",
   "pygments_lexer": "ipython3",
   "version": "3.5.6"
  }
 },
 "nbformat": 4,
 "nbformat_minor": 1
}
