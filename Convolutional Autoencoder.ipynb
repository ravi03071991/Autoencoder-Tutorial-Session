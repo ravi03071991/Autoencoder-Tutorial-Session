{
 "cells": [
  {
   "cell_type": "code",
   "execution_count": 1,
   "metadata": {
    "colab": {
     "base_uri": "https://localhost:8080/",
     "height": 34
    },
    "colab_type": "code",
    "id": "48Bq-_RLsxsb",
    "outputId": "32cb1564-d486-40af-ce6f-7041cab1a0b8"
   },
   "outputs": [
    {
     "name": "stderr",
     "output_type": "stream",
     "text": [
      "Using TensorFlow backend.\n"
     ]
    }
   ],
   "source": [
    "from keras.layers import Input, Dense, Conv2D, MaxPooling2D, UpSampling2D\n",
    "from keras.models import Sequential, load_model\n",
    "from keras.layers.core import Activation\n",
    "from keras.models import Model\n",
    "from keras import backend as K\n",
    "from keras.utils import np_utils\n",
    "\n",
    "from keras.datasets import mnist\n",
    "import numpy as np\n",
    "\n",
    "import matplotlib.pyplot as plt\n",
    "\n",
    "from keras import regularizers"
   ]
  },
  {
   "cell_type": "code",
   "execution_count": 2,
   "metadata": {
    "colab": {
     "base_uri": "https://localhost:8080/",
     "height": 86
    },
    "colab_type": "code",
    "id": "ZcQ4OKJYs2jn",
    "outputId": "60bb0c57-946b-402d-a504-e2c73d0a2cee"
   },
   "outputs": [
    {
     "name": "stdout",
     "output_type": "stream",
     "text": [
      "Downloading data from https://s3.amazonaws.com/img-datasets/mnist.npz\n",
      "11493376/11490434 [==============================] - 0s 0us/step\n",
      "x_train shape is:  (60000, 28, 28, 1)\n",
      "x_test shape is:  (10000, 28, 28, 1)\n"
     ]
    }
   ],
   "source": [
    "(x_train, _), (x_test, _) = mnist.load_data()\n",
    "\n",
    "x_train = x_train.astype('float32') / 255.\n",
    "x_test = x_test.astype('float32') / 255.\n",
    "x_train = np.reshape(x_train, (len(x_train), 28, 28, 1)) \n",
    "x_test = np.reshape(x_test, (len(x_test), 28, 28, 1))  \n",
    "\n",
    "print(\"x_train shape is: \", x_train.shape)\n",
    "print(\"x_test shape is: \", x_test.shape)"
   ]
  },
  {
   "cell_type": "code",
   "execution_count": 4,
   "metadata": {
    "colab": {
     "base_uri": "https://localhost:8080/",
     "height": 1785
    },
    "colab_type": "code",
    "id": "mGTuNuXstQgY",
    "outputId": "e038bde3-b881-4025-82cd-acec0e657ccc"
   },
   "outputs": [
    {
     "name": "stdout",
     "output_type": "stream",
     "text": [
      "Train on 60000 samples, validate on 10000 samples\n",
      "Epoch 1/50\n",
      "60000/60000 [==============================] - 4s 75us/step - loss: 0.2584 - val_loss: 0.1673\n",
      "Epoch 2/50\n",
      "60000/60000 [==============================] - 4s 67us/step - loss: 0.1519 - val_loss: 0.1397\n",
      "Epoch 3/50\n",
      "60000/60000 [==============================] - 4s 66us/step - loss: 0.1340 - val_loss: 0.1279\n",
      "Epoch 4/50\n",
      "60000/60000 [==============================] - 4s 66us/step - loss: 0.1254 - val_loss: 0.1212\n",
      "Epoch 5/50\n",
      "60000/60000 [==============================] - 4s 67us/step - loss: 0.1202 - val_loss: 0.1171\n",
      "Epoch 6/50\n",
      "60000/60000 [==============================] - 4s 66us/step - loss: 0.1164 - val_loss: 0.1138\n",
      "Epoch 7/50\n",
      "60000/60000 [==============================] - 4s 66us/step - loss: 0.1137 - val_loss: 0.1116\n",
      "Epoch 8/50\n",
      "60000/60000 [==============================] - 4s 66us/step - loss: 0.1117 - val_loss: 0.1097\n",
      "Epoch 9/50\n",
      "60000/60000 [==============================] - 4s 66us/step - loss: 0.1100 - val_loss: 0.1089\n",
      "Epoch 10/50\n",
      "60000/60000 [==============================] - 4s 66us/step - loss: 0.1087 - val_loss: 0.1069\n",
      "Epoch 11/50\n",
      "60000/60000 [==============================] - 4s 66us/step - loss: 0.1075 - val_loss: 0.1058\n",
      "Epoch 12/50\n",
      "60000/60000 [==============================] - 4s 66us/step - loss: 0.1065 - val_loss: 0.1048\n",
      "Epoch 13/50\n",
      "60000/60000 [==============================] - 4s 66us/step - loss: 0.1057 - val_loss: 0.1040\n",
      "Epoch 14/50\n",
      "60000/60000 [==============================] - 4s 66us/step - loss: 0.1048 - val_loss: 0.1033\n",
      "Epoch 15/50\n",
      "60000/60000 [==============================] - 4s 66us/step - loss: 0.1042 - val_loss: 0.1028\n",
      "Epoch 16/50\n",
      "60000/60000 [==============================] - 4s 66us/step - loss: 0.1035 - val_loss: 0.1023\n",
      "Epoch 17/50\n",
      "60000/60000 [==============================] - 4s 66us/step - loss: 0.1029 - val_loss: 0.1016\n",
      "Epoch 18/50\n",
      "60000/60000 [==============================] - 4s 66us/step - loss: 0.1024 - val_loss: 0.1012\n",
      "Epoch 19/50\n",
      "60000/60000 [==============================] - 4s 66us/step - loss: 0.1020 - val_loss: 0.1009\n",
      "Epoch 20/50\n",
      "60000/60000 [==============================] - 4s 66us/step - loss: 0.1015 - val_loss: 0.1005\n",
      "Epoch 21/50\n",
      "60000/60000 [==============================] - 4s 66us/step - loss: 0.1012 - val_loss: 0.0998\n",
      "Epoch 22/50\n",
      "60000/60000 [==============================] - 4s 66us/step - loss: 0.1007 - val_loss: 0.0996\n",
      "Epoch 23/50\n",
      "60000/60000 [==============================] - 4s 66us/step - loss: 0.1003 - val_loss: 0.0991\n",
      "Epoch 24/50\n",
      "60000/60000 [==============================] - 4s 66us/step - loss: 0.1000 - val_loss: 0.0989\n",
      "Epoch 25/50\n",
      "60000/60000 [==============================] - 4s 66us/step - loss: 0.0997 - val_loss: 0.0984\n",
      "Epoch 26/50\n",
      "60000/60000 [==============================] - 4s 66us/step - loss: 0.0994 - val_loss: 0.0981\n",
      "Epoch 27/50\n",
      "60000/60000 [==============================] - 4s 66us/step - loss: 0.0991 - val_loss: 0.0979\n",
      "Epoch 28/50\n",
      "60000/60000 [==============================] - 4s 66us/step - loss: 0.0988 - val_loss: 0.0979\n",
      "Epoch 29/50\n",
      "60000/60000 [==============================] - 4s 66us/step - loss: 0.0985 - val_loss: 0.0974\n",
      "Epoch 30/50\n",
      "60000/60000 [==============================] - 4s 66us/step - loss: 0.0983 - val_loss: 0.0972\n",
      "Epoch 31/50\n",
      "60000/60000 [==============================] - 4s 66us/step - loss: 0.0981 - val_loss: 0.0976\n",
      "Epoch 32/50\n",
      "60000/60000 [==============================] - 4s 67us/step - loss: 0.0978 - val_loss: 0.0970\n",
      "Epoch 33/50\n",
      "60000/60000 [==============================] - 4s 66us/step - loss: 0.0976 - val_loss: 0.0967\n",
      "Epoch 34/50\n",
      "60000/60000 [==============================] - 4s 68us/step - loss: 0.0974 - val_loss: 0.0964\n",
      "Epoch 35/50\n",
      "60000/60000 [==============================] - 4s 68us/step - loss: 0.0972 - val_loss: 0.0964\n",
      "Epoch 36/50\n",
      "60000/60000 [==============================] - 4s 68us/step - loss: 0.0970 - val_loss: 0.0962\n",
      "Epoch 37/50\n",
      "60000/60000 [==============================] - 4s 69us/step - loss: 0.0968 - val_loss: 0.0957\n",
      "Epoch 38/50\n",
      "60000/60000 [==============================] - 4s 70us/step - loss: 0.0967 - val_loss: 0.0957\n",
      "Epoch 39/50\n",
      "60000/60000 [==============================] - 4s 70us/step - loss: 0.0964 - val_loss: 0.0953\n",
      "Epoch 40/50\n",
      "60000/60000 [==============================] - 4s 68us/step - loss: 0.0963 - val_loss: 0.0952\n",
      "Epoch 41/50\n",
      "60000/60000 [==============================] - 4s 67us/step - loss: 0.0961 - val_loss: 0.0951\n",
      "Epoch 42/50\n",
      "60000/60000 [==============================] - 4s 67us/step - loss: 0.0959 - val_loss: 0.0951\n",
      "Epoch 43/50\n",
      "60000/60000 [==============================] - 4s 67us/step - loss: 0.0958 - val_loss: 0.0946\n",
      "Epoch 44/50\n",
      "60000/60000 [==============================] - 4s 66us/step - loss: 0.0956 - val_loss: 0.0945\n",
      "Epoch 45/50\n",
      "60000/60000 [==============================] - 4s 66us/step - loss: 0.0955 - val_loss: 0.0946\n",
      "Epoch 46/50\n",
      "60000/60000 [==============================] - 4s 66us/step - loss: 0.0953 - val_loss: 0.0944\n",
      "Epoch 47/50\n",
      "60000/60000 [==============================] - 4s 66us/step - loss: 0.0952 - val_loss: 0.0947\n",
      "Epoch 48/50\n",
      "60000/60000 [==============================] - 4s 66us/step - loss: 0.0950 - val_loss: 0.0943\n",
      "Epoch 49/50\n",
      "60000/60000 [==============================] - 4s 66us/step - loss: 0.0949 - val_loss: 0.0939\n",
      "Epoch 50/50\n",
      "60000/60000 [==============================] - 4s 66us/step - loss: 0.0948 - val_loss: 0.0937\n"
     ]
    },
    {
     "data": {
      "text/plain": [
       "<keras.callbacks.History at 0x7f93d0368630>"
      ]
     },
     "execution_count": 4,
     "metadata": {
      "tags": []
     },
     "output_type": "execute_result"
    }
   ],
   "source": [
    "# Input placeholder\n",
    "input_img = Input(shape=(28, 28, 1))  \n",
    "\n",
    "# Encoder architecture\n",
    "x = Conv2D(16, (3, 3), activation='relu', padding='same')(input_img)\n",
    "x = MaxPooling2D((2, 2), padding='same')(x)\n",
    "x = Conv2D(8, (3, 3), activation='relu', padding='same')(x)\n",
    "x = MaxPooling2D((2, 2), padding='same')(x)\n",
    "x = Conv2D(8, (3, 3), activation='relu', padding='same')(x)\n",
    "encoded = MaxPooling2D((2, 2), padding='same')(x)\n",
    "\n",
    "# Decoder architecture\n",
    "x = Conv2D(8, (3, 3), activation='relu', padding='same')(encoded)\n",
    "x = UpSampling2D((2, 2))(x)\n",
    "x = Conv2D(8, (3, 3), activation='relu', padding='same')(x)\n",
    "x = UpSampling2D((2, 2))(x)\n",
    "x = Conv2D(16, (3, 3), activation='relu')(x)\n",
    "x = UpSampling2D((2, 2))(x)\n",
    "decoded = Conv2D(1, (3, 3), activation='sigmoid', padding='same')(x)\n",
    "\n",
    "# create autoencoder model\n",
    "autoencoder = Model(input_img, decoded)\n",
    "\n",
    "# compile the model\n",
    "autoencoder.compile(optimizer='adam', loss='binary_crossentropy')\n",
    "\n",
    "# train autoencoder\n",
    "autoencoder.fit(x_train, x_train,\n",
    "                epochs=50,\n",
    "                batch_size=256,\n",
    "                shuffle=True,\n",
    "                validation_data=(x_test, x_test))"
   ]
  },
  {
   "cell_type": "code",
   "execution_count": 5,
   "metadata": {
    "colab": {
     "base_uri": "https://localhost:8080/",
     "height": 248
    },
    "colab_type": "code",
    "id": "ZKwCJYI-ty-u",
    "outputId": "769bfaba-1faa-4c59-b4fe-42a944564c3f"
   },
   "outputs": [
    {
     "data": {
      "image/png": "[encoded data removed]",
      "text/plain": [
       "<matplotlib.figure.Figure at 0x7f93d0513ef0>"
      ]
     },
     "metadata": {
      "tags": []
     },
     "output_type": "display_data"
    }
   ],
   "source": [
    "# decoded_imgs - decoded representation of test image\n",
    "decoded_imgs = autoencoder.predict(x_test)\n",
    "\n",
    "n = 5  # Display 4 images\n",
    "plt.figure(figsize=(20, 4))\n",
    "for i in range(1, n):\n",
    "    # display original\n",
    "    ax = plt.subplot(2, n, i + 1)\n",
    "    plt.imshow(x_test[i].reshape(28, 28))\n",
    "    plt.gray()\n",
    "    ax.get_xaxis().set_visible(False)\n",
    "    ax.get_yaxis().set_visible(False)\n",
    "\n",
    "    # display reconstruction\n",
    "    ax = plt.subplot(2, n, i + 1 + n)\n",
    "    plt.imshow(decoded_imgs[i].reshape(28, 28))\n",
    "    plt.gray()\n",
    "    ax.get_xaxis().set_visible(False)\n",
    "    ax.get_yaxis().set_visible(False)\n",
    "plt.show()"
   ]
  },
  {
   "cell_type": "code",
   "execution_count": 0,
   "metadata": {
    "colab": {},
    "colab_type": "code",
    "id": "-L6-8i49waPn"
   },
   "outputs": [],
   "source": []
  }
 ],
 "metadata": {
  "accelerator": "GPU",
  "colab": {
   "name": "Convolutional Autoencoder.ipynb",
   "provenance": [],
   "version": "0.3.2"
  },
  "kernelspec": {
   "display_name": "Python 3",
   "language": "python",
   "name": "python3"
  },
  "language_info": {
   "codemirror_mode": {
    "name": "ipython",
    "version": 3
   },
   "file_extension": ".py",
   "mimetype": "text/x-python",
   "name": "python",
   "nbconvert_exporter": "python",
   "pygments_lexer": "ipython3",
   "version": "3.5.6"
  }
 },
 "nbformat": 4,
 "nbformat_minor": 1
}
