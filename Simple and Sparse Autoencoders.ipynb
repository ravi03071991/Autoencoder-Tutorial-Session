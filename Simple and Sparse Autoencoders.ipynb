{
 "cells": [
  {
   "cell_type": "code",
   "execution_count": 1,
   "metadata": {
    "colab": {
     "base_uri": "https://localhost:8080/",
     "height": 34
    },
    "colab_type": "code",
    "id": "faMescpcnXa5",
    "outputId": "d45d9dbb-5c3d-4b09-c535-b7c2606b72ea"
   },
   "outputs": [
    {
     "name": "stderr",
     "output_type": "stream",
     "text": [
      "Using TensorFlow backend.\n"
     ]
    }
   ],
   "source": [
    "from keras.layers import Input, Dense, Conv2D, MaxPooling2D, UpSampling2D\n",
    "from keras.models import Sequential, load_model\n",
    "from keras.layers.core import Activation\n",
    "from keras.models import Model\n",
    "from keras import backend as K\n",
    "from keras.utils import np_utils\n",
    "\n",
    "from keras.datasets import mnist\n",
    "import numpy as np\n",
    "\n",
    "import matplotlib.pyplot as plt\n",
    "\n",
    "from keras import regularizers"
   ]
  },
  {
   "cell_type": "code",
   "execution_count": 2,
   "metadata": {
    "colab": {
     "base_uri": "https://localhost:8080/",
     "height": 86
    },
    "colab_type": "code",
    "id": "U6HoyftxnYrK",
    "outputId": "51926f26-d802-48d3-fd0e-fc266193efee"
   },
   "outputs": [
    {
     "name": "stdout",
     "output_type": "stream",
     "text": [
      "Downloading data from https://s3.amazonaws.com/img-datasets/mnist.npz\n",
      "11493376/11490434 [==============================] - 1s 0us/step\n",
      "(60000, 784)\n",
      "(10000, 784)\n"
     ]
    }
   ],
   "source": [
    "(x_train, _), (x_test, _) = mnist.load_data()\n",
    "x_train = x_train.astype('float32') / 255.\n",
    "x_test = x_test.astype('float32') / 255.\n",
    "x_train = x_train.reshape((len(x_train), np.prod(x_train.shape[1:])))\n",
    "x_test = x_test.reshape((len(x_test), np.prod(x_test.shape[1:])))\n",
    "print(x_train.shape)\n",
    "print(x_test.shape)"
   ]
  },
  {
   "cell_type": "markdown",
   "metadata": {
    "colab_type": "text",
    "id": "SOuhEK7PrXRL"
   },
   "source": [
    "# **Simple Autoencoder**"
   ]
  },
  {
   "cell_type": "code",
   "execution_count": 3,
   "metadata": {
    "colab": {
     "base_uri": "https://localhost:8080/",
     "height": 2010
    },
    "colab_type": "code",
    "id": "n7xbPckSnawu",
    "outputId": "21dcbf0c-7380-416d-e736-678b1ddfb3f0"
   },
   "outputs": [
    {
     "name": "stdout",
     "output_type": "stream",
     "text": [
      "_________________________________________________________________\n",
      "Layer (type)                 Output Shape              Param #   \n",
      "=================================================================\n",
      "input_1 (InputLayer)         (None, 784)               0         \n",
      "_________________________________________________________________\n",
      "dense_1 (Dense)              (None, 64)                50240     \n",
      "_________________________________________________________________\n",
      "dense_2 (Dense)              (None, 784)               50960     \n",
      "=================================================================\n",
      "Total params: 101,200\n",
      "Trainable params: 101,200\n",
      "Non-trainable params: 0\n",
      "_________________________________________________________________\n",
      "Train on 60000 samples, validate on 10000 samples\n",
      "Epoch 1/50\n",
      "60000/60000 [==============================] - 5s 85us/step - loss: 0.2428 - val_loss: 0.1584\n",
      "Epoch 2/50\n",
      "60000/60000 [==============================] - 5s 75us/step - loss: 0.1415 - val_loss: 0.1250\n",
      "Epoch 3/50\n",
      "60000/60000 [==============================] - 4s 75us/step - loss: 0.1170 - val_loss: 0.1075\n",
      "Epoch 4/50\n",
      "60000/60000 [==============================] - 5s 76us/step - loss: 0.1032 - val_loss: 0.0968\n",
      "Epoch 5/50\n",
      "60000/60000 [==============================] - 4s 75us/step - loss: 0.0942 - val_loss: 0.0896\n",
      "Epoch 6/50\n",
      "60000/60000 [==============================] - 4s 74us/step - loss: 0.0882 - val_loss: 0.0848\n",
      "Epoch 7/50\n",
      "60000/60000 [==============================] - 5s 75us/step - loss: 0.0840 - val_loss: 0.0814\n",
      "Epoch 8/50\n",
      "60000/60000 [==============================] - 5s 75us/step - loss: 0.0811 - val_loss: 0.0791\n",
      "Epoch 9/50\n",
      "60000/60000 [==============================] - 4s 75us/step - loss: 0.0791 - val_loss: 0.0775\n",
      "Epoch 10/50\n",
      "60000/60000 [==============================] - 4s 75us/step - loss: 0.0777 - val_loss: 0.0763\n",
      "Epoch 11/50\n",
      "60000/60000 [==============================] - 5s 75us/step - loss: 0.0767 - val_loss: 0.0756\n",
      "Epoch 12/50\n",
      "60000/60000 [==============================] - 5s 76us/step - loss: 0.0759 - val_loss: 0.0749\n",
      "Epoch 13/50\n",
      "60000/60000 [==============================] - 4s 75us/step - loss: 0.0754 - val_loss: 0.0745\n",
      "Epoch 14/50\n",
      "60000/60000 [==============================] - 5s 75us/step - loss: 0.0750 - val_loss: 0.0742\n",
      "Epoch 15/50\n",
      "60000/60000 [==============================] - 4s 75us/step - loss: 0.0747 - val_loss: 0.0739\n",
      "Epoch 16/50\n",
      "60000/60000 [==============================] - 5s 75us/step - loss: 0.0744 - val_loss: 0.0737\n",
      "Epoch 17/50\n",
      "60000/60000 [==============================] - 4s 75us/step - loss: 0.0742 - val_loss: 0.0735\n",
      "Epoch 18/50\n",
      "60000/60000 [==============================] - 4s 75us/step - loss: 0.0740 - val_loss: 0.0733\n",
      "Epoch 19/50\n",
      "60000/60000 [==============================] - 4s 74us/step - loss: 0.0739 - val_loss: 0.0732\n",
      "Epoch 20/50\n",
      "60000/60000 [==============================] - 4s 75us/step - loss: 0.0738 - val_loss: 0.0731\n",
      "Epoch 21/50\n",
      "60000/60000 [==============================] - 4s 74us/step - loss: 0.0737 - val_loss: 0.0730\n",
      "Epoch 22/50\n",
      "60000/60000 [==============================] - 4s 75us/step - loss: 0.0736 - val_loss: 0.0730\n",
      "Epoch 23/50\n",
      "60000/60000 [==============================] - 4s 74us/step - loss: 0.0735 - val_loss: 0.0729\n",
      "Epoch 24/50\n",
      "60000/60000 [==============================] - 4s 74us/step - loss: 0.0734 - val_loss: 0.0728\n",
      "Epoch 25/50\n",
      "60000/60000 [==============================] - 5s 75us/step - loss: 0.0734 - val_loss: 0.0728\n",
      "Epoch 26/50\n",
      "60000/60000 [==============================] - 5s 75us/step - loss: 0.0733 - val_loss: 0.0728\n",
      "Epoch 27/50\n",
      "60000/60000 [==============================] - 4s 75us/step - loss: 0.0733 - val_loss: 0.0727\n",
      "Epoch 28/50\n",
      "60000/60000 [==============================] - 4s 74us/step - loss: 0.0732 - val_loss: 0.0727\n",
      "Epoch 29/50\n",
      "60000/60000 [==============================] - 4s 75us/step - loss: 0.0732 - val_loss: 0.0727\n",
      "Epoch 30/50\n",
      "60000/60000 [==============================] - 4s 75us/step - loss: 0.0732 - val_loss: 0.0726\n",
      "Epoch 31/50\n",
      "60000/60000 [==============================] - 4s 75us/step - loss: 0.0731 - val_loss: 0.0726\n",
      "Epoch 32/50\n",
      "60000/60000 [==============================] - 4s 74us/step - loss: 0.0731 - val_loss: 0.0726\n",
      "Epoch 33/50\n",
      "60000/60000 [==============================] - 4s 74us/step - loss: 0.0730 - val_loss: 0.0725\n",
      "Epoch 34/50\n",
      "60000/60000 [==============================] - 5s 75us/step - loss: 0.0730 - val_loss: 0.0725\n",
      "Epoch 35/50\n",
      "60000/60000 [==============================] - 5s 76us/step - loss: 0.0730 - val_loss: 0.0726\n",
      "Epoch 36/50\n",
      "60000/60000 [==============================] - 5s 75us/step - loss: 0.0730 - val_loss: 0.0725\n",
      "Epoch 37/50\n",
      "60000/60000 [==============================] - 4s 75us/step - loss: 0.0729 - val_loss: 0.0724\n",
      "Epoch 38/50\n",
      "60000/60000 [==============================] - 4s 75us/step - loss: 0.0729 - val_loss: 0.0725\n",
      "Epoch 39/50\n",
      "60000/60000 [==============================] - 5s 76us/step - loss: 0.0729 - val_loss: 0.0724\n",
      "Epoch 40/50\n",
      "60000/60000 [==============================] - 4s 75us/step - loss: 0.0729 - val_loss: 0.0724\n",
      "Epoch 41/50\n",
      "60000/60000 [==============================] - 4s 74us/step - loss: 0.0729 - val_loss: 0.0724\n",
      "Epoch 42/50\n",
      "60000/60000 [==============================] - 4s 74us/step - loss: 0.0729 - val_loss: 0.0724\n",
      "Epoch 43/50\n",
      "60000/60000 [==============================] - 5s 75us/step - loss: 0.0728 - val_loss: 0.0724\n",
      "Epoch 44/50\n",
      "60000/60000 [==============================] - 4s 75us/step - loss: 0.0728 - val_loss: 0.0723\n",
      "Epoch 45/50\n",
      "60000/60000 [==============================] - 5s 75us/step - loss: 0.0728 - val_loss: 0.0723\n",
      "Epoch 46/50\n",
      "60000/60000 [==============================] - 4s 74us/step - loss: 0.0728 - val_loss: 0.0724\n",
      "Epoch 47/50\n",
      "60000/60000 [==============================] - 5s 80us/step - loss: 0.0728 - val_loss: 0.0723\n",
      "Epoch 48/50\n",
      "60000/60000 [==============================] - 5s 81us/step - loss: 0.0728 - val_loss: 0.0723\n",
      "Epoch 49/50\n",
      "60000/60000 [==============================] - 5s 77us/step - loss: 0.0728 - val_loss: 0.0723\n",
      "Epoch 50/50\n",
      "60000/60000 [==============================] - 4s 74us/step - loss: 0.0728 - val_loss: 0.0723\n"
     ]
    },
    {
     "data": {
      "text/plain": [
       "<keras.callbacks.History at 0x7fe9486dee10>"
      ]
     },
     "execution_count": 3,
     "metadata": {
      "tags": []
     },
     "output_type": "execute_result"
    }
   ],
   "source": [
    "# encoder dimension\n",
    "encoding_dim = 64  \n",
    "\n",
    "# Input placeholder\n",
    "input_img = Input(shape=(784,))\n",
    "\n",
    "# encoded - encoded representation of the input\n",
    "encoded = Dense(encoding_dim, activation='relu')(input_img)\n",
    "\n",
    "# decoded - lossy reconstruction of the input\n",
    "decoded = Dense(784, activation='sigmoid')(encoded)\n",
    "\n",
    "# autoencoder - model maps an input to its reconstruction\n",
    "autoencoder = Model(input_img, decoded)\n",
    "\n",
    "# encoder - model maps an input to its encoded representation\n",
    "encoder = Model(input_img, encoded)\n",
    "\n",
    "# Placeholder for an encoded (64-dimensional) input\n",
    "encoded_input = Input(shape=(encoding_dim,))\n",
    "\n",
    "# Last layer of the autoencoder model\n",
    "decoder_layer = autoencoder.layers[-1]\n",
    "\n",
    "# decoder model\n",
    "decoder = Model(encoded_input, decoder_layer(encoded_input))\n",
    "\n",
    "# Compile  model\n",
    "autoencoder.compile(optimizer='adam', loss='binary_crossentropy')\n",
    "\n",
    "autoencoder.summary()\n",
    "\n",
    "# Fit the model\n",
    "autoencoder.fit(x_train, x_train,\n",
    "                epochs=50,\n",
    "                batch_size=256,\n",
    "                shuffle=True,\n",
    "                validation_data=(x_test, x_test))"
   ]
  },
  {
   "cell_type": "code",
   "execution_count": 4,
   "metadata": {
    "colab": {
     "base_uri": "https://localhost:8080/",
     "height": 248
    },
    "colab_type": "code",
    "id": "dgFIRmPDoCNu",
    "outputId": "f690ac04-361a-4b90-f07f-9f8f9f7e1a9c"
   },
   "outputs": [
    {
     "data": {
      "image/png": "[encoded data removed]",
      "text/plain": [
       "<matplotlib.figure.Figure at 0x7fe945b61c50>"
      ]
     },
     "metadata": {
      "tags": []
     },
     "output_type": "display_data"
    }
   ],
   "source": [
    "# encode and decode some digits\n",
    "# encoded_imgs - encoded representation of test image\n",
    "encoded_imgs = encoder.predict(x_test)\n",
    "\n",
    "# decoded_imgs - decoded representation of test image\n",
    "decoded_imgs = decoder.predict(encoded_imgs)\n",
    "\n",
    "n = 5  # Display 4 images\n",
    "plt.figure(figsize=(20, 4))\n",
    "for i in range(1, n):\n",
    "    # display original\n",
    "    ax = plt.subplot(2, n, i + 1)\n",
    "    plt.imshow(x_test[i].reshape(28, 28))\n",
    "    plt.gray()\n",
    "    ax.get_xaxis().set_visible(False)\n",
    "    ax.get_yaxis().set_visible(False)\n",
    "\n",
    "    # display reconstruction\n",
    "    ax = plt.subplot(2, n, i + 1 + n)\n",
    "    plt.imshow(decoded_imgs[i].reshape(28, 28))\n",
    "    plt.gray()\n",
    "    ax.get_xaxis().set_visible(False)\n",
    "    ax.get_yaxis().set_visible(False)\n",
    "plt.show()"
   ]
  },
  {
   "cell_type": "code",
   "execution_count": 5,
   "metadata": {
    "colab": {
     "base_uri": "https://localhost:8080/",
     "height": 34
    },
    "colab_type": "code",
    "id": "5365B_I4pC9c",
    "outputId": "02d406f5-71ad-44e2-ccc1-7a6dfef16435"
   },
   "outputs": [
    {
     "data": {
      "text/plain": [
       "6.6946883"
      ]
     },
     "execution_count": 5,
     "metadata": {
      "tags": []
     },
     "output_type": "execute_result"
    }
   ],
   "source": [
    "# Calculate the mean of encoded representation of all test images\n",
    "encoded_imgs.mean()"
   ]
  },
  {
   "cell_type": "markdown",
   "metadata": {
    "colab_type": "text",
    "id": "I4R3c-FPrgqh"
   },
   "source": [
    "# **Sparse Autoencoder**"
   ]
  },
  {
   "cell_type": "code",
   "execution_count": 6,
   "metadata": {
    "colab": {
     "base_uri": "https://localhost:8080/",
     "height": 2010
    },
    "colab_type": "code",
    "id": "RHZ0SlGOpMZ8",
    "outputId": "958e3754-66c8-4a23-9bc9-9438c7f90f37"
   },
   "outputs": [
    {
     "name": "stdout",
     "output_type": "stream",
     "text": [
      "_________________________________________________________________\n",
      "Layer (type)                 Output Shape              Param #   \n",
      "=================================================================\n",
      "input_3 (InputLayer)         (None, 784)               0         \n",
      "_________________________________________________________________\n",
      "dense_3 (Dense)              (None, 64)                50240     \n",
      "_________________________________________________________________\n",
      "dense_4 (Dense)              (None, 784)               50960     \n",
      "=================================================================\n",
      "Total params: 101,200\n",
      "Trainable params: 101,200\n",
      "Non-trainable params: 0\n",
      "_________________________________________________________________\n",
      "Train on 60000 samples, validate on 10000 samples\n",
      "Epoch 1/50\n",
      "60000/60000 [==============================] - 5s 80us/step - loss: 0.3395 - val_loss: 0.2207\n",
      "Epoch 2/50\n",
      "60000/60000 [==============================] - 5s 77us/step - loss: 0.2007 - val_loss: 0.1851\n",
      "Epoch 3/50\n",
      "60000/60000 [==============================] - 5s 78us/step - loss: 0.1782 - val_loss: 0.1703\n",
      "Epoch 4/50\n",
      "60000/60000 [==============================] - 5s 78us/step - loss: 0.1667 - val_loss: 0.1610\n",
      "Epoch 5/50\n",
      "60000/60000 [==============================] - 5s 77us/step - loss: 0.1586 - val_loss: 0.1538\n",
      "Epoch 6/50\n",
      "60000/60000 [==============================] - 5s 78us/step - loss: 0.1522 - val_loss: 0.1483\n",
      "Epoch 7/50\n",
      "60000/60000 [==============================] - 5s 79us/step - loss: 0.1473 - val_loss: 0.1439\n",
      "Epoch 8/50\n",
      "60000/60000 [==============================] - 5s 78us/step - loss: 0.1434 - val_loss: 0.1405\n",
      "Epoch 9/50\n",
      "60000/60000 [==============================] - 5s 77us/step - loss: 0.1404 - val_loss: 0.1379\n",
      "Epoch 10/50\n",
      "60000/60000 [==============================] - 5s 78us/step - loss: 0.1380 - val_loss: 0.1356\n",
      "Epoch 11/50\n",
      "60000/60000 [==============================] - 5s 78us/step - loss: 0.1358 - val_loss: 0.1336\n",
      "Epoch 12/50\n",
      "60000/60000 [==============================] - 5s 78us/step - loss: 0.1340 - val_loss: 0.1318\n",
      "Epoch 13/50\n",
      "60000/60000 [==============================] - 5s 78us/step - loss: 0.1322 - val_loss: 0.1302\n",
      "Epoch 14/50\n",
      "60000/60000 [==============================] - 5s 76us/step - loss: 0.1307 - val_loss: 0.1286\n",
      "Epoch 15/50\n",
      "60000/60000 [==============================] - 5s 77us/step - loss: 0.1293 - val_loss: 0.1273\n",
      "Epoch 16/50\n",
      "60000/60000 [==============================] - 5s 78us/step - loss: 0.1280 - val_loss: 0.1262\n",
      "Epoch 17/50\n",
      "60000/60000 [==============================] - 5s 78us/step - loss: 0.1268 - val_loss: 0.1251\n",
      "Epoch 18/50\n",
      "60000/60000 [==============================] - 5s 78us/step - loss: 0.1258 - val_loss: 0.1241\n",
      "Epoch 19/50\n",
      "60000/60000 [==============================] - 5s 78us/step - loss: 0.1248 - val_loss: 0.1232\n",
      "Epoch 20/50\n",
      "60000/60000 [==============================] - 5s 78us/step - loss: 0.1239 - val_loss: 0.1222\n",
      "Epoch 21/50\n",
      "60000/60000 [==============================] - 5s 77us/step - loss: 0.1231 - val_loss: 0.1215\n",
      "Epoch 22/50\n",
      "60000/60000 [==============================] - 5s 78us/step - loss: 0.1223 - val_loss: 0.1207\n",
      "Epoch 23/50\n",
      "60000/60000 [==============================] - 5s 77us/step - loss: 0.1216 - val_loss: 0.1200\n",
      "Epoch 24/50\n",
      "60000/60000 [==============================] - 5s 77us/step - loss: 0.1209 - val_loss: 0.1194\n",
      "Epoch 25/50\n",
      "60000/60000 [==============================] - 5s 77us/step - loss: 0.1203 - val_loss: 0.1187\n",
      "Epoch 26/50\n",
      "60000/60000 [==============================] - 5s 76us/step - loss: 0.1197 - val_loss: 0.1182\n",
      "Epoch 27/50\n",
      "60000/60000 [==============================] - 5s 76us/step - loss: 0.1191 - val_loss: 0.1176\n",
      "Epoch 28/50\n",
      "60000/60000 [==============================] - 5s 77us/step - loss: 0.1186 - val_loss: 0.1172\n",
      "Epoch 29/50\n",
      "60000/60000 [==============================] - 5s 77us/step - loss: 0.1181 - val_loss: 0.1167\n",
      "Epoch 30/50\n",
      "60000/60000 [==============================] - 5s 81us/step - loss: 0.1176 - val_loss: 0.1161\n",
      "Epoch 31/50\n",
      "60000/60000 [==============================] - 5s 81us/step - loss: 0.1171 - val_loss: 0.1157\n",
      "Epoch 32/50\n",
      "60000/60000 [==============================] - 5s 79us/step - loss: 0.1167 - val_loss: 0.1154\n",
      "Epoch 33/50\n",
      "60000/60000 [==============================] - 5s 77us/step - loss: 0.1163 - val_loss: 0.1150\n",
      "Epoch 34/50\n",
      "60000/60000 [==============================] - 5s 78us/step - loss: 0.1159 - val_loss: 0.1145\n",
      "Epoch 35/50\n",
      "60000/60000 [==============================] - 5s 77us/step - loss: 0.1155 - val_loss: 0.1141\n",
      "Epoch 36/50\n",
      "60000/60000 [==============================] - 5s 77us/step - loss: 0.1152 - val_loss: 0.1138\n",
      "Epoch 37/50\n",
      "60000/60000 [==============================] - 5s 79us/step - loss: 0.1149 - val_loss: 0.1135\n",
      "Epoch 38/50\n",
      "60000/60000 [==============================] - 5s 77us/step - loss: 0.1145 - val_loss: 0.1133\n",
      "Epoch 39/50\n",
      "60000/60000 [==============================] - 5s 77us/step - loss: 0.1142 - val_loss: 0.1128\n",
      "Epoch 40/50\n",
      "60000/60000 [==============================] - 5s 77us/step - loss: 0.1139 - val_loss: 0.1127\n",
      "Epoch 41/50\n",
      "60000/60000 [==============================] - 5s 78us/step - loss: 0.1136 - val_loss: 0.1123\n",
      "Epoch 42/50\n",
      "60000/60000 [==============================] - 5s 77us/step - loss: 0.1134 - val_loss: 0.1120\n",
      "Epoch 43/50\n",
      "60000/60000 [==============================] - 5s 77us/step - loss: 0.1129 - val_loss: 0.1117\n",
      "Epoch 44/50\n",
      "60000/60000 [==============================] - 5s 77us/step - loss: 0.1126 - val_loss: 0.1112\n",
      "Epoch 45/50\n",
      "60000/60000 [==============================] - 5s 81us/step - loss: 0.1122 - val_loss: 0.1109\n",
      "Epoch 46/50\n",
      "60000/60000 [==============================] - 5s 78us/step - loss: 0.1119 - val_loss: 0.1107\n",
      "Epoch 47/50\n",
      "60000/60000 [==============================] - 5s 77us/step - loss: 0.1117 - val_loss: 0.1106\n",
      "Epoch 48/50\n",
      "60000/60000 [==============================] - 5s 77us/step - loss: 0.1114 - val_loss: 0.1101\n",
      "Epoch 49/50\n",
      "60000/60000 [==============================] - 5s 77us/step - loss: 0.1112 - val_loss: 0.1099\n",
      "Epoch 50/50\n",
      "60000/60000 [==============================] - 5s 78us/step - loss: 0.1109 - val_loss: 0.1097\n"
     ]
    },
    {
     "data": {
      "text/plain": [
       "<keras.callbacks.History at 0x7fe94516d278>"
      ]
     },
     "execution_count": 6,
     "metadata": {
      "tags": []
     },
     "output_type": "execute_result"
    }
   ],
   "source": [
    "# encoder dimension\n",
    "encoding_dim = 64  \n",
    "\n",
    "# Input placeholder\n",
    "input_img = Input(shape=(784,))\n",
    "\n",
    "# encoded - encoded representation of the input\n",
    "encoded = Dense(encoding_dim, activation='relu', activity_regularizer=regularizers.l1(0.5e-5))(input_img)\n",
    "\n",
    "# decoded - lossy reconstruction of the input\n",
    "decoded = Dense(784, activation='sigmoid')(encoded)\n",
    "\n",
    "# autoencoder - model maps an input to its reconstruction\n",
    "autoencoder = Model(input_img, decoded)\n",
    "\n",
    "# encoder - model maps an input to its encoded representation\n",
    "encoder = Model(input_img, encoded)\n",
    "\n",
    "# Placeholder for an encoded (64-dimensional) input\n",
    "encoded_input = Input(shape=(encoding_dim,))\n",
    "\n",
    "# Last layer of the autoencoder model\n",
    "decoder_layer = autoencoder.layers[-1]\n",
    "\n",
    "# decoder model\n",
    "decoder = Model(encoded_input, decoder_layer(encoded_input))\n",
    "\n",
    "# Compile  model\n",
    "autoencoder.compile(optimizer='adam', loss='binary_crossentropy')\n",
    "\n",
    "autoencoder.summary()\n",
    "\n",
    "# Fit the model\n",
    "autoencoder.fit(x_train, x_train,\n",
    "                epochs=50,\n",
    "                batch_size=256,\n",
    "                shuffle=True,\n",
    "                validation_data=(x_test, x_test))"
   ]
  },
  {
   "cell_type": "code",
   "execution_count": 7,
   "metadata": {
    "colab": {
     "base_uri": "https://localhost:8080/",
     "height": 248
    },
    "colab_type": "code",
    "id": "EMkHAwlEpfpf",
    "outputId": "8b424e22-489d-4e51-d1b1-c4bf2b59e98a"
   },
   "outputs": [
    {
     "data": {
      "image/png": "[encoded data removed]",
      "text/plain": [
       "<matplotlib.figure.Figure at 0x7fe9493ae4a8>"
      ]
     },
     "metadata": {
      "tags": []
     },
     "output_type": "display_data"
    }
   ],
   "source": [
    "# encode and decode some digits\n",
    "# encoded_imgs - encoded representation of test image\n",
    "encoded_imgs = encoder.predict(x_test)\n",
    "\n",
    "# decoded_imgs - decoded representation of test image\n",
    "decoded_imgs = decoder.predict(encoded_imgs)\n",
    "\n",
    "n = 5  # Display 4 images\n",
    "plt.figure(figsize=(20, 4))\n",
    "for i in range(1, n):\n",
    "    # display original\n",
    "    ax = plt.subplot(2, n, i + 1)\n",
    "    plt.imshow(x_test[i].reshape(28, 28))\n",
    "    plt.gray()\n",
    "    ax.get_xaxis().set_visible(False)\n",
    "    ax.get_yaxis().set_visible(False)\n",
    "\n",
    "    # display reconstruction\n",
    "    ax = plt.subplot(2, n, i + 1 + n)\n",
    "    plt.imshow(decoded_imgs[i].reshape(28, 28))\n",
    "    plt.gray()\n",
    "    ax.get_xaxis().set_visible(False)\n",
    "    ax.get_yaxis().set_visible(False)\n",
    "plt.show()"
   ]
  },
  {
   "cell_type": "code",
   "execution_count": 9,
   "metadata": {
    "colab": {
     "base_uri": "https://localhost:8080/",
     "height": 34
    },
    "colab_type": "code",
    "id": "UHWhQjjNq-VN",
    "outputId": "f9c0ea3d-1b33-4203-9cb9-d40a26cb9922"
   },
   "outputs": [
    {
     "data": {
      "text/plain": [
       "0.18285818"
      ]
     },
     "execution_count": 9,
     "metadata": {
      "tags": []
     },
     "output_type": "execute_result"
    }
   ],
   "source": [
    "# Calculate the mean of encoded representation of all test images\n",
    "encoded_imgs.mean()"
   ]
  },
  {
   "cell_type": "markdown",
   "metadata": {
    "colab_type": "text",
    "id": "0GMkSNYLrmhl"
   },
   "source": [
    "As you can see the mean of encoded images using sparse auto encoder is very less compared to simple auto encoder."
   ]
  }
 ],
 "metadata": {
  "colab": {
   "name": "Simple and Sparse Autoencoders.ipynb",
   "provenance": [],
   "version": "0.3.2"
  },
  "kernelspec": {
   "display_name": "Python 3",
   "language": "python",
   "name": "python3"
  },
  "language_info": {
   "codemirror_mode": {
    "name": "ipython",
    "version": 3
   },
   "file_extension": ".py",
   "mimetype": "text/x-python",
   "name": "python",
   "nbconvert_exporter": "python",
   "pygments_lexer": "ipython3",
   "version": "3.5.6"
  }
 },
 "nbformat": 4,
 "nbformat_minor": 1
}
