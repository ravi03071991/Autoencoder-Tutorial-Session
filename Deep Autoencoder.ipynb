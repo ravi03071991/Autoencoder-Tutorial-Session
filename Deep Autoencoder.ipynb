{
 "cells": [
  {
   "cell_type": "code",
   "execution_count": 1,
   "metadata": {
    "colab": {
     "base_uri": "https://localhost:8080/",
     "height": 34
    },
    "colab_type": "code",
    "id": "C9NUxMaRr4sY",
    "outputId": "3bffa5f8-1966-4e96-91e6-298c672e5298"
   },
   "outputs": [
    {
     "name": "stderr",
     "output_type": "stream",
     "text": [
      "Using TensorFlow backend.\n"
     ]
    }
   ],
   "source": [
    "from keras.layers import Input, Dense, Conv2D, MaxPooling2D, UpSampling2D\n",
    "from keras.models import Sequential, load_model\n",
    "from keras.layers.core import Activation\n",
    "from keras.models import Model\n",
    "from keras import backend as K\n",
    "from keras.utils import np_utils\n",
    "\n",
    "from keras.datasets import mnist\n",
    "import numpy as np\n",
    "\n",
    "import matplotlib.pyplot as plt\n",
    "\n",
    "from keras import regularizers"
   ]
  },
  {
   "cell_type": "code",
   "execution_count": 2,
   "metadata": {
    "colab": {
     "base_uri": "https://localhost:8080/",
     "height": 52
    },
    "colab_type": "code",
    "id": "17EFt0hnr84h",
    "outputId": "3ba6cde8-98d3-4157-95c3-6aa321465300"
   },
   "outputs": [
    {
     "name": "stdout",
     "output_type": "stream",
     "text": [
      "(60000, 784)\n",
      "(10000, 784)\n"
     ]
    }
   ],
   "source": [
    "(x_train, _), (x_test, _) = mnist.load_data()\n",
    "x_train = x_train.astype('float32') / 255.\n",
    "x_test = x_test.astype('float32') / 255.\n",
    "x_train = x_train.reshape((len(x_train), np.prod(x_train.shape[1:])))\n",
    "x_test = x_test.reshape((len(x_test), np.prod(x_test.shape[1:])))\n",
    "print(x_train.shape)\n",
    "print(x_test.shape)"
   ]
  },
  {
   "cell_type": "code",
   "execution_count": 3,
   "metadata": {
    "colab": {
     "base_uri": "https://localhost:8080/",
     "height": 1785
    },
    "colab_type": "code",
    "id": "jieWX1gIr-tX",
    "outputId": "f23cbd08-ea9c-424d-87f0-1300fcc123f5"
   },
   "outputs": [
    {
     "name": "stdout",
     "output_type": "stream",
     "text": [
      "Train on 60000 samples, validate on 10000 samples\n",
      "Epoch 1/50\n",
      "60000/60000 [==============================] - 6s 106us/step - loss: 0.2353 - val_loss: 0.1626\n",
      "Epoch 2/50\n",
      "60000/60000 [==============================] - 6s 99us/step - loss: 0.1470 - val_loss: 0.1348\n",
      "Epoch 3/50\n",
      "60000/60000 [==============================] - 6s 98us/step - loss: 0.1294 - val_loss: 0.1222\n",
      "Epoch 4/50\n",
      "60000/60000 [==============================] - 6s 98us/step - loss: 0.1201 - val_loss: 0.1152\n",
      "Epoch 5/50\n",
      "60000/60000 [==============================] - 6s 103us/step - loss: 0.1137 - val_loss: 0.1097\n",
      "Epoch 6/50\n",
      "60000/60000 [==============================] - 6s 105us/step - loss: 0.1093 - val_loss: 0.1065\n",
      "Epoch 7/50\n",
      "60000/60000 [==============================] - 6s 98us/step - loss: 0.1065 - val_loss: 0.1048\n",
      "Epoch 8/50\n",
      "60000/60000 [==============================] - 6s 98us/step - loss: 0.1043 - val_loss: 0.1023\n",
      "Epoch 9/50\n",
      "60000/60000 [==============================] - 6s 99us/step - loss: 0.1024 - val_loss: 0.1003\n",
      "Epoch 10/50\n",
      "60000/60000 [==============================] - 6s 99us/step - loss: 0.1005 - val_loss: 0.0990\n",
      "Epoch 11/50\n",
      "60000/60000 [==============================] - 6s 99us/step - loss: 0.0990 - val_loss: 0.0971\n",
      "Epoch 12/50\n",
      "60000/60000 [==============================] - 6s 98us/step - loss: 0.0977 - val_loss: 0.0968\n",
      "Epoch 13/50\n",
      "60000/60000 [==============================] - 6s 99us/step - loss: 0.0966 - val_loss: 0.0952\n",
      "Epoch 14/50\n",
      "60000/60000 [==============================] - 6s 99us/step - loss: 0.0956 - val_loss: 0.0941\n",
      "Epoch 15/50\n",
      "60000/60000 [==============================] - 6s 101us/step - loss: 0.0948 - val_loss: 0.0932\n",
      "Epoch 16/50\n",
      "60000/60000 [==============================] - 6s 98us/step - loss: 0.0938 - val_loss: 0.0927\n",
      "Epoch 17/50\n",
      "60000/60000 [==============================] - 6s 98us/step - loss: 0.0931 - val_loss: 0.0919\n",
      "Epoch 18/50\n",
      "60000/60000 [==============================] - 6s 98us/step - loss: 0.0924 - val_loss: 0.0911\n",
      "Epoch 19/50\n",
      "60000/60000 [==============================] - 6s 98us/step - loss: 0.0917 - val_loss: 0.0907\n",
      "Epoch 20/50\n",
      "60000/60000 [==============================] - 6s 99us/step - loss: 0.0912 - val_loss: 0.0901\n",
      "Epoch 21/50\n",
      "60000/60000 [==============================] - 6s 99us/step - loss: 0.0907 - val_loss: 0.0896\n",
      "Epoch 22/50\n",
      "60000/60000 [==============================] - 6s 98us/step - loss: 0.0903 - val_loss: 0.0894\n",
      "Epoch 23/50\n",
      "60000/60000 [==============================] - 6s 97us/step - loss: 0.0899 - val_loss: 0.0889\n",
      "Epoch 24/50\n",
      "60000/60000 [==============================] - 6s 98us/step - loss: 0.0895 - val_loss: 0.0887\n",
      "Epoch 25/50\n",
      "60000/60000 [==============================] - 6s 106us/step - loss: 0.0892 - val_loss: 0.0883\n",
      "Epoch 26/50\n",
      "60000/60000 [==============================] - 7s 121us/step - loss: 0.0888 - val_loss: 0.0882\n",
      "Epoch 27/50\n",
      "60000/60000 [==============================] - 7s 110us/step - loss: 0.0884 - val_loss: 0.0877\n",
      "Epoch 28/50\n",
      "60000/60000 [==============================] - 6s 99us/step - loss: 0.0882 - val_loss: 0.0874\n",
      "Epoch 29/50\n",
      "60000/60000 [==============================] - 6s 99us/step - loss: 0.0878 - val_loss: 0.0874\n",
      "Epoch 30/50\n",
      "60000/60000 [==============================] - 6s 100us/step - loss: 0.0876 - val_loss: 0.0868\n",
      "Epoch 31/50\n",
      "60000/60000 [==============================] - 6s 100us/step - loss: 0.0873 - val_loss: 0.0865\n",
      "Epoch 32/50\n",
      "60000/60000 [==============================] - 6s 99us/step - loss: 0.0870 - val_loss: 0.0863\n",
      "Epoch 33/50\n",
      "60000/60000 [==============================] - 6s 99us/step - loss: 0.0868 - val_loss: 0.0864\n",
      "Epoch 34/50\n",
      "60000/60000 [==============================] - 6s 99us/step - loss: 0.0866 - val_loss: 0.0858\n",
      "Epoch 35/50\n",
      "60000/60000 [==============================] - 6s 100us/step - loss: 0.0863 - val_loss: 0.0860\n",
      "Epoch 36/50\n",
      "60000/60000 [==============================] - 6s 99us/step - loss: 0.0862 - val_loss: 0.0857\n",
      "Epoch 37/50\n",
      "60000/60000 [==============================] - 6s 98us/step - loss: 0.0860 - val_loss: 0.0852\n",
      "Epoch 38/50\n",
      "60000/60000 [==============================] - 6s 99us/step - loss: 0.0857 - val_loss: 0.0853\n",
      "Epoch 39/50\n",
      "60000/60000 [==============================] - 6s 98us/step - loss: 0.0856 - val_loss: 0.0850\n",
      "Epoch 40/50\n",
      "60000/60000 [==============================] - 6s 99us/step - loss: 0.0853 - val_loss: 0.0847\n",
      "Epoch 41/50\n",
      "60000/60000 [==============================] - 6s 99us/step - loss: 0.0852 - val_loss: 0.0847\n",
      "Epoch 42/50\n",
      "60000/60000 [==============================] - 6s 98us/step - loss: 0.0850 - val_loss: 0.0844\n",
      "Epoch 43/50\n",
      "60000/60000 [==============================] - 6s 99us/step - loss: 0.0849 - val_loss: 0.0845\n",
      "Epoch 44/50\n",
      "60000/60000 [==============================] - 6s 99us/step - loss: 0.0848 - val_loss: 0.0844\n",
      "Epoch 45/50\n",
      "60000/60000 [==============================] - 6s 100us/step - loss: 0.0846 - val_loss: 0.0844\n",
      "Epoch 46/50\n",
      "60000/60000 [==============================] - 6s 101us/step - loss: 0.0845 - val_loss: 0.0844\n",
      "Epoch 47/50\n",
      "60000/60000 [==============================] - 6s 100us/step - loss: 0.0844 - val_loss: 0.0839\n",
      "Epoch 48/50\n",
      "60000/60000 [==============================] - 6s 99us/step - loss: 0.0842 - val_loss: 0.0839\n",
      "Epoch 49/50\n",
      "60000/60000 [==============================] - 6s 99us/step - loss: 0.0842 - val_loss: 0.0836\n",
      "Epoch 50/50\n",
      "60000/60000 [==============================] - 6s 100us/step - loss: 0.0841 - val_loss: 0.0835\n"
     ]
    },
    {
     "data": {
      "text/plain": [
       "<keras.callbacks.History at 0x7fc16be3bbe0>"
      ]
     },
     "execution_count": 3,
     "metadata": {
      "tags": []
     },
     "output_type": "execute_result"
    }
   ],
   "source": [
    "# Input placeholder\n",
    "input_img = Input(shape=(784,))\n",
    "\n",
    "# Encoder architecture\n",
    "encoded = Dense(128, activation='relu')(input_img)\n",
    "encoded = Dense(64, activation='relu')(encoded)\n",
    "encoded = Dense(32, activation='relu')(encoded)\n",
    "\n",
    "# Decoder architecture\n",
    "decoded = Dense(64, activation='relu')(encoded)\n",
    "decoded = Dense(128, activation='relu')(decoded)\n",
    "decoded = Dense(784, activation='sigmoid')(decoded)\n",
    "\n",
    "# autoencoder - model maps an input to its reconstruction\n",
    "autoencoder = Model(input_img, decoded)\n",
    "\n",
    "# compile the model\n",
    "autoencoder.compile(optimizer='adam', loss='binary_crossentropy')\n",
    "\n",
    "# train the autoencoder\n",
    "autoencoder.fit(x_train, x_train,\n",
    "                epochs=50,\n",
    "                batch_size=256,\n",
    "                shuffle=True,\n",
    "                validation_data=(x_test, x_test))"
   ]
  },
  {
   "cell_type": "code",
   "execution_count": 6,
   "metadata": {
    "colab": {
     "base_uri": "https://localhost:8080/",
     "height": 248
    },
    "colab_type": "code",
    "id": "jDQUAUsnsSXg",
    "outputId": "d7d85726-804c-4b13-9a07-e4d67e0adf38"
   },
   "outputs": [
    {
     "data": {
      "image/png": "[encoded data removed]",
      "text/plain": [
       "<matplotlib.figure.Figure at 0x7fc169060f98>"
      ]
     },
     "metadata": {
      "tags": []
     },
     "output_type": "display_data"
    }
   ],
   "source": [
    "# decoded_imgs - decoded representation of test image\n",
    "decoded_imgs = autoencoder.predict(x_test)\n",
    "\n",
    "n = 5  # Display 4 images\n",
    "plt.figure(figsize=(20, 4))\n",
    "for i in range(1, n):\n",
    "    # display original\n",
    "    ax = plt.subplot(2, n, i + 1)\n",
    "    plt.imshow(x_test[i].reshape(28, 28))\n",
    "    plt.gray()\n",
    "    ax.get_xaxis().set_visible(False)\n",
    "    ax.get_yaxis().set_visible(False)\n",
    "\n",
    "    # display reconstruction\n",
    "    ax = plt.subplot(2, n, i + 1 + n)\n",
    "    plt.imshow(decoded_imgs[i].reshape(28, 28))\n",
    "    plt.gray()\n",
    "    ax.get_xaxis().set_visible(False)\n",
    "    ax.get_yaxis().set_visible(False)\n",
    "plt.show()"
   ]
  }
 ],
 "metadata": {
  "colab": {
   "name": "Deep Autoencoder.ipynb",
   "provenance": [],
   "version": "0.3.2"
  },
  "kernelspec": {
   "display_name": "Python 3",
   "language": "python",
   "name": "python3"
  },
  "language_info": {
   "codemirror_mode": {
    "name": "ipython",
    "version": 3
   },
   "file_extension": ".py",
   "mimetype": "text/x-python",
   "name": "python",
   "nbconvert_exporter": "python",
   "pygments_lexer": "ipython3",
   "version": "3.5.6"
  }
 },
 "nbformat": 4,
 "nbformat_minor": 1
}
