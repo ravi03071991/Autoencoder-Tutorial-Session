{
 "cells": [
  {
   "cell_type": "code",
   "execution_count": 1,
   "metadata": {
    "colab": {
     "base_uri": "https://localhost:8080/",
     "height": 34
    },
    "colab_type": "code",
    "id": "bO_R6pSVvWm2",
    "outputId": "a64eacf9-5fb4-460d-89b9-cbeb4827bf7e"
   },
   "outputs": [
    {
     "name": "stderr",
     "output_type": "stream",
     "text": [
      "Using TensorFlow backend.\n"
     ]
    }
   ],
   "source": [
    "from keras.layers import Input, Dense, Conv2D, MaxPooling2D, UpSampling2D\n",
    "from keras.models import Sequential, load_model\n",
    "from keras.layers.core import Activation\n",
    "from keras.models import Model\n",
    "from keras import backend as K\n",
    "from keras.utils import np_utils\n",
    "\n",
    "from keras.datasets import mnist\n",
    "import numpy as np\n",
    "\n",
    "import matplotlib.pyplot as plt\n",
    "\n",
    "from keras import regularizers"
   ]
  },
  {
   "cell_type": "code",
   "execution_count": 2,
   "metadata": {
    "colab": {
     "base_uri": "https://localhost:8080/",
     "height": 52
    },
    "colab_type": "code",
    "id": "xjh677yWvibw",
    "outputId": "a5fed97a-b4cc-485c-a1bc-e4ce5f16d37f"
   },
   "outputs": [
    {
     "name": "stdout",
     "output_type": "stream",
     "text": [
      "x_train shape is:  (60000, 28, 28, 1)\n",
      "x_test shape is:  (10000, 28, 28, 1)\n"
     ]
    }
   ],
   "source": [
    "(x_train, _), (x_test, _) = mnist.load_data()\n",
    "\n",
    "x_train = x_train.astype('float32') / 255.\n",
    "x_test = x_test.astype('float32') / 255.\n",
    "x_train = np.reshape(x_train, (len(x_train), 28, 28, 1)) \n",
    "x_test = np.reshape(x_test, (len(x_test), 28, 28, 1)) \n",
    "\n",
    "print(\"x_train shape is: \", x_train.shape)\n",
    "print(\"x_test shape is: \", x_test.shape)\n"
   ]
  },
  {
   "cell_type": "code",
   "execution_count": 0,
   "metadata": {
    "colab": {},
    "colab_type": "code",
    "id": "ksTfirTyvndN"
   },
   "outputs": [],
   "source": [
    "# Add noise to original images\n",
    "noise_factor = 0.5\n",
    "x_train_noisy = x_train + noise_factor * np.random.normal(loc=0.0, scale=1.0, size=x_train.shape) \n",
    "x_test_noisy = x_test + noise_factor * np.random.normal(loc=0.0, scale=1.0, size=x_test.shape) \n",
    "\n",
    "# Clip the images to maximum value of 1 and minimum value to 0 since we will be using binary cross entropy loss\n",
    "x_train_noisy = np.clip(x_train_noisy, 0., 1.)\n",
    "x_test_noisy = np.clip(x_test_noisy, 0., 1.)"
   ]
  },
  {
   "cell_type": "code",
   "execution_count": 4,
   "metadata": {
    "colab": {
     "base_uri": "https://localhost:8080/",
     "height": 125
    },
    "colab_type": "code",
    "id": "T-sLvzQ1v11r",
    "outputId": "b973d1d8-4ba9-47b7-f646-ce4d4f66201f"
   },
   "outputs": [
    {
     "data": {
      "image/png": "[encoded data removed]",
      "text/plain": [
       "<matplotlib.figure.Figure at 0x7f34eaeb5940>"
      ]
     },
     "metadata": {
      "tags": []
     },
     "output_type": "display_data"
    }
   ],
   "source": [
    "# Plot 9 noisy images\n",
    "n = 10\n",
    "plt.figure(figsize=(20, 2))\n",
    "for i in range(1, n):\n",
    "    ax = plt.subplot(1, n, i)\n",
    "    plt.imshow(x_test_noisy[i].reshape(28, 28))\n",
    "    plt.gray()\n",
    "    ax.get_xaxis().set_visible(False)\n",
    "    ax.get_yaxis().set_visible(False)\n",
    "plt.show()"
   ]
  },
  {
   "cell_type": "code",
   "execution_count": 5,
   "metadata": {
    "colab": {
     "base_uri": "https://localhost:8080/",
     "height": 2253
    },
    "colab_type": "code",
    "id": "dIzfoC6xv80i",
    "outputId": "33e74996-9426-477d-9bc7-536bab366ec5"
   },
   "outputs": [
    {
     "name": "stdout",
     "output_type": "stream",
     "text": [
      "_________________________________________________________________\n",
      "Layer (type)                 Output Shape              Param #   \n",
      "=================================================================\n",
      "input_1 (InputLayer)         (None, 28, 28, 1)         0         \n",
      "_________________________________________________________________\n",
      "conv2d_1 (Conv2D)            (None, 28, 28, 32)        320       \n",
      "_________________________________________________________________\n",
      "max_pooling2d_1 (MaxPooling2 (None, 14, 14, 32)        0         \n",
      "_________________________________________________________________\n",
      "conv2d_2 (Conv2D)            (None, 14, 14, 32)        9248      \n",
      "_________________________________________________________________\n",
      "max_pooling2d_2 (MaxPooling2 (None, 7, 7, 32)          0         \n",
      "_________________________________________________________________\n",
      "conv2d_3 (Conv2D)            (None, 7, 7, 32)          9248      \n",
      "_________________________________________________________________\n",
      "up_sampling2d_1 (UpSampling2 (None, 14, 14, 32)        0         \n",
      "_________________________________________________________________\n",
      "conv2d_4 (Conv2D)            (None, 14, 14, 32)        9248      \n",
      "_________________________________________________________________\n",
      "up_sampling2d_2 (UpSampling2 (None, 28, 28, 32)        0         \n",
      "_________________________________________________________________\n",
      "conv2d_5 (Conv2D)            (None, 28, 28, 1)         289       \n",
      "=================================================================\n",
      "Total params: 28,353\n",
      "Trainable params: 28,353\n",
      "Non-trainable params: 0\n",
      "_________________________________________________________________\n",
      "Train on 60000 samples, validate on 10000 samples\n",
      "Epoch 1/50\n",
      "60000/60000 [==============================] - 7s 120us/step - loss: 0.2164 - val_loss: 0.1321\n",
      "Epoch 2/50\n",
      "60000/60000 [==============================] - 6s 93us/step - loss: 0.1258 - val_loss: 0.1191\n",
      "Epoch 3/50\n",
      "60000/60000 [==============================] - 6s 93us/step - loss: 0.1175 - val_loss: 0.1137\n",
      "Epoch 4/50\n",
      "60000/60000 [==============================] - 6s 93us/step - loss: 0.1131 - val_loss: 0.1108\n",
      "Epoch 5/50\n",
      "60000/60000 [==============================] - 6s 94us/step - loss: 0.1103 - val_loss: 0.1079\n",
      "Epoch 6/50\n",
      "60000/60000 [==============================] - 6s 94us/step - loss: 0.1083 - val_loss: 0.1063\n",
      "Epoch 7/50\n",
      "60000/60000 [==============================] - 6s 93us/step - loss: 0.1066 - val_loss: 0.1058\n",
      "Epoch 8/50\n",
      "60000/60000 [==============================] - 6s 93us/step - loss: 0.1054 - val_loss: 0.1038\n",
      "Epoch 9/50\n",
      "60000/60000 [==============================] - 6s 93us/step - loss: 0.1043 - val_loss: 0.1031\n",
      "Epoch 10/50\n",
      "60000/60000 [==============================] - 6s 93us/step - loss: 0.1034 - val_loss: 0.1020\n",
      "Epoch 11/50\n",
      "60000/60000 [==============================] - 6s 94us/step - loss: 0.1026 - val_loss: 0.1012\n",
      "Epoch 12/50\n",
      "60000/60000 [==============================] - 6s 94us/step - loss: 0.1019 - val_loss: 0.1009\n",
      "Epoch 13/50\n",
      "60000/60000 [==============================] - 6s 94us/step - loss: 0.1013 - val_loss: 0.1004\n",
      "Epoch 14/50\n",
      "60000/60000 [==============================] - 6s 93us/step - loss: 0.1008 - val_loss: 0.0998\n",
      "Epoch 15/50\n",
      "60000/60000 [==============================] - 6s 94us/step - loss: 0.1003 - val_loss: 0.0992\n",
      "Epoch 16/50\n",
      "60000/60000 [==============================] - 6s 93us/step - loss: 0.1000 - val_loss: 0.0989\n",
      "Epoch 17/50\n",
      "60000/60000 [==============================] - 6s 94us/step - loss: 0.0995 - val_loss: 0.0991\n",
      "Epoch 18/50\n",
      "60000/60000 [==============================] - 6s 95us/step - loss: 0.0993 - val_loss: 0.0983\n",
      "Epoch 19/50\n",
      "60000/60000 [==============================] - 6s 96us/step - loss: 0.0989 - val_loss: 0.0980\n",
      "Epoch 20/50\n",
      "60000/60000 [==============================] - 6s 94us/step - loss: 0.0986 - val_loss: 0.0977\n",
      "Epoch 21/50\n",
      "60000/60000 [==============================] - 6s 93us/step - loss: 0.0984 - val_loss: 0.0976\n",
      "Epoch 22/50\n",
      "60000/60000 [==============================] - 6s 93us/step - loss: 0.0981 - val_loss: 0.0984\n",
      "Epoch 23/50\n",
      "60000/60000 [==============================] - 6s 93us/step - loss: 0.0979 - val_loss: 0.0972\n",
      "Epoch 24/50\n",
      "60000/60000 [==============================] - 6s 94us/step - loss: 0.0977 - val_loss: 0.0970\n",
      "Epoch 25/50\n",
      "60000/60000 [==============================] - 6s 93us/step - loss: 0.0976 - val_loss: 0.0968\n",
      "Epoch 26/50\n",
      "60000/60000 [==============================] - 6s 94us/step - loss: 0.0973 - val_loss: 0.0967\n",
      "Epoch 27/50\n",
      "60000/60000 [==============================] - 6s 95us/step - loss: 0.0971 - val_loss: 0.0964\n",
      "Epoch 28/50\n",
      "60000/60000 [==============================] - 6s 94us/step - loss: 0.0969 - val_loss: 0.0963\n",
      "Epoch 29/50\n",
      "60000/60000 [==============================] - 6s 94us/step - loss: 0.0967 - val_loss: 0.0962\n",
      "Epoch 30/50\n",
      "60000/60000 [==============================] - 6s 94us/step - loss: 0.0966 - val_loss: 0.0959\n",
      "Epoch 31/50\n",
      "60000/60000 [==============================] - 6s 93us/step - loss: 0.0964 - val_loss: 0.0960\n",
      "Epoch 32/50\n",
      "60000/60000 [==============================] - 6s 93us/step - loss: 0.0963 - val_loss: 0.0959\n",
      "Epoch 33/50\n",
      "60000/60000 [==============================] - 6s 93us/step - loss: 0.0962 - val_loss: 0.0966\n",
      "Epoch 34/50\n",
      "60000/60000 [==============================] - 6s 94us/step - loss: 0.0960 - val_loss: 0.0954\n",
      "Epoch 35/50\n",
      "60000/60000 [==============================] - 6s 94us/step - loss: 0.0959 - val_loss: 0.0955\n",
      "Epoch 36/50\n",
      "60000/60000 [==============================] - 6s 93us/step - loss: 0.0957 - val_loss: 0.0952\n",
      "Epoch 37/50\n",
      "60000/60000 [==============================] - 6s 94us/step - loss: 0.0956 - val_loss: 0.0952\n",
      "Epoch 38/50\n",
      "60000/60000 [==============================] - 6s 94us/step - loss: 0.0955 - val_loss: 0.0950\n",
      "Epoch 39/50\n",
      "60000/60000 [==============================] - 6s 94us/step - loss: 0.0954 - val_loss: 0.0950\n",
      "Epoch 40/50\n",
      "60000/60000 [==============================] - 6s 94us/step - loss: 0.0953 - val_loss: 0.0950\n",
      "Epoch 41/50\n",
      "60000/60000 [==============================] - 6s 94us/step - loss: 0.0953 - val_loss: 0.0949\n",
      "Epoch 42/50\n",
      "60000/60000 [==============================] - 6s 94us/step - loss: 0.0952 - val_loss: 0.0947\n",
      "Epoch 43/50\n",
      "60000/60000 [==============================] - 6s 94us/step - loss: 0.0952 - val_loss: 0.0947\n",
      "Epoch 44/50\n",
      "60000/60000 [==============================] - 6s 94us/step - loss: 0.0951 - val_loss: 0.0946\n",
      "Epoch 45/50\n",
      "60000/60000 [==============================] - 6s 94us/step - loss: 0.0950 - val_loss: 0.0947\n",
      "Epoch 46/50\n",
      "60000/60000 [==============================] - 6s 98us/step - loss: 0.0949 - val_loss: 0.0946\n",
      "Epoch 47/50\n",
      "60000/60000 [==============================] - 6s 96us/step - loss: 0.0949 - val_loss: 0.0945\n",
      "Epoch 48/50\n",
      "60000/60000 [==============================] - 6s 94us/step - loss: 0.0948 - val_loss: 0.0945\n",
      "Epoch 49/50\n",
      "60000/60000 [==============================] - 6s 94us/step - loss: 0.0948 - val_loss: 0.0943\n",
      "Epoch 50/50\n",
      "60000/60000 [==============================] - 6s 94us/step - loss: 0.0947 - val_loss: 0.0945\n"
     ]
    },
    {
     "data": {
      "text/plain": [
       "<keras.callbacks.History at 0x7f34ea373f98>"
      ]
     },
     "execution_count": 5,
     "metadata": {
      "tags": []
     },
     "output_type": "execute_result"
    }
   ],
   "source": [
    "# Input placeholder\n",
    "input_img = Input(shape=(28, 28, 1))\n",
    "\n",
    "# Encoder architecture\n",
    "x = Conv2D(32, (3, 3), activation='relu', padding='same')(input_img)\n",
    "x = MaxPooling2D((2, 2), padding='same')(x)\n",
    "x = Conv2D(32, (3, 3), activation='relu', padding='same')(x)\n",
    "encoded = MaxPooling2D((2, 2), padding='same')(x)\n",
    "\n",
    "# Decoder architecture\n",
    "x = Conv2D(32, (3, 3), activation='relu', padding='same')(encoded)\n",
    "x = UpSampling2D((2, 2))(x)\n",
    "x = Conv2D(32, (3, 3), activation='relu', padding='same')(x)\n",
    "x = UpSampling2D((2, 2))(x)\n",
    "decoded = Conv2D(1, (3, 3), activation='sigmoid', padding='same')(x)\n",
    "\n",
    "# Autoencoder model\n",
    "autoencoder = Model(input_img, decoded)\n",
    "\n",
    "autoencoder.summary()\n",
    "\n",
    "# Compile the model\n",
    "autoencoder.compile(optimizer='adam', loss='binary_crossentropy')\n",
    "\n",
    "# train the model\n",
    "autoencoder.fit(x_train_noisy, x_train,\n",
    "                epochs=50,\n",
    "                batch_size=256,\n",
    "                shuffle=True,\n",
    "                validation_data=(x_test_noisy, x_test))"
   ]
  },
  {
   "cell_type": "code",
   "execution_count": 6,
   "metadata": {
    "colab": {
     "base_uri": "https://localhost:8080/",
     "height": 244
    },
    "colab_type": "code",
    "id": "N2DiisvWwrPS",
    "outputId": "0ef1856f-bf45-4857-ae36-2b3439aa4d50"
   },
   "outputs": [
    {
     "data": {
      "image/png": "[encoded data removed]",
      "text/plain": [
       "<matplotlib.figure.Figure at 0x7f3528f15cf8>"
      ]
     },
     "metadata": {
      "tags": []
     },
     "output_type": "display_data"
    }
   ],
   "source": [
    "# decoded_imgs - decoded representation of test image\n",
    "decoded_imgs = autoencoder.predict(x_test_noisy)\n",
    "\n",
    "n = 10  # Display 9 images\n",
    "plt.figure(figsize=(20, 4))\n",
    "for i in range(1, n):\n",
    "    # display original\n",
    "    ax = plt.subplot(2, n, i + 1)\n",
    "    plt.imshow(x_test_noisy[i].reshape(28, 28))\n",
    "    plt.gray()\n",
    "    ax.get_xaxis().set_visible(False)\n",
    "    ax.get_yaxis().set_visible(False)\n",
    "\n",
    "    # display reconstruction\n",
    "    ax = plt.subplot(2, n, i + 1 + n)\n",
    "    plt.imshow(decoded_imgs[i].reshape(28, 28))\n",
    "    plt.gray()\n",
    "    ax.get_xaxis().set_visible(False)\n",
    "    ax.get_yaxis().set_visible(False)\n",
    "plt.show()"
   ]
  },
  {
   "cell_type": "code",
   "execution_count": 0,
   "metadata": {
    "colab": {},
    "colab_type": "code",
    "id": "GLXri7WFxxwY"
   },
   "outputs": [],
   "source": []
  }
 ],
 "metadata": {
  "accelerator": "GPU",
  "colab": {
   "name": "Application to image denoising.ipynb",
   "provenance": [],
   "version": "0.3.2"
  },
  "kernelspec": {
   "display_name": "Python 3",
   "language": "python",
   "name": "python3"
  },
  "language_info": {
   "codemirror_mode": {
    "name": "ipython",
    "version": 3
   },
   "file_extension": ".py",
   "mimetype": "text/x-python",
   "name": "python",
   "nbconvert_exporter": "python",
   "pygments_lexer": "ipython3",
   "version": "3.5.6"
  }
 },
 "nbformat": 4,
 "nbformat_minor": 1
}
